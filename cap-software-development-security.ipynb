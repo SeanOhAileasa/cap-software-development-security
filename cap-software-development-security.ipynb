{
 "cells": [
  {
   "cell_type": "markdown",
   "id": "d4ee9e4b",
   "metadata": {},
   "source": [
    "***\n",
    "< [Home](https://github.com/SeanOhAileasa) | [README](https://github.com/SeanOhAileasa/cap-software-development-security/blob/main/README.md) >\n",
    "\n",
    "## CompTIA Cybersecurity Analyst (CySA+) - Course Material 2022\n",
    "###### Topic: ``Software Development Security``\n",
    "***"
   ]
  },
  {
   "cell_type": "markdown",
   "id": "b82b07fb",
   "metadata": {},
   "source": [
    "Course material for the ``CompTIA Cybersecurity Analyst (CySA+)`` module of the ``ICT Associate Apprenticeship (Cybersecurity)`` programme."
   ]
  },
  {
   "cell_type": "markdown",
   "id": "e7228f57",
   "metadata": {},
   "source": [
    "<a id=\"top\"></a>\n",
    "***\n",
    "## Table of Contents\n",
    "***"
   ]
  },
  {
   "cell_type": "markdown",
   "id": "c2bb5e7b",
   "metadata": {},
   "source": [
    "### [Software Development Security](#SoftwareDevelopmentSecurity) <br/><br/>\n",
    "<hr width=50%;>"
   ]
  },
  {
   "cell_type": "markdown",
   "id": "248ae367",
   "metadata": {},
   "source": [
    "### [Software Development Life Cycle](#SoftwareDevelopmentLifeCycle) <br/><br/>\n",
    "<hr width=50%;>"
   ]
  },
  {
   "cell_type": "markdown",
   "id": "f929b98c",
   "metadata": {},
   "source": [
    "### [DevSecOps](#DevSecOps) <br/><br/>\n",
    "<hr width=50%;>"
   ]
  },
  {
   "cell_type": "markdown",
   "id": "ab24fd43",
   "metadata": {},
   "source": [
    "### [Microservices and Decoupling](#MicroservicesandDecoupling) <br/><br/>\n",
    "<hr width=50%;>"
   ]
  },
  {
   "cell_type": "markdown",
   "id": "40b5c99e",
   "metadata": {},
   "source": [
    "### [Application Containerization](#ApplicationContainerization) <br/><br/>\n",
    "<hr width=50%;>"
   ]
  },
  {
   "cell_type": "markdown",
   "id": "e51565ce",
   "metadata": {},
   "source": [
    "### [Cloud Developer Services](#CloudDeveloperServices) <br/><br/>\n",
    "<hr width=50%;>"
   ]
  },
  {
   "cell_type": "markdown",
   "id": "04d49f81",
   "metadata": {},
   "source": [
    "### [Secure Coding](#SecureCoding) <br/><br/>\n",
    "<hr width=50%;>"
   ]
  },
  {
   "cell_type": "markdown",
   "id": "e80d8837",
   "metadata": {},
   "source": [
    "### [Software Testing](#SoftwareTesting) <br/><br/>\n",
    "<hr width=50%;>"
   ]
  },
  {
   "cell_type": "markdown",
   "id": "1bf1bc70",
   "metadata": {},
   "source": [
    "### [Unit Testing](#UnitTesting) <br/><br/>\n",
    "<hr width=50%;>"
   ]
  },
  {
   "cell_type": "markdown",
   "id": "fe2b20fc",
   "metadata": {},
   "source": [
    "### [Android App Reverse Engineering](#AndroidAppReverseEngineering) <br/><br/>\n",
    "<hr width=50%;>"
   ]
  },
  {
   "cell_type": "markdown",
   "id": "1954afba",
   "metadata": {},
   "source": [
    "### [Course Summary](#CourseSummary) <br/><br/>\n",
    "<hr width=50%;>"
   ]
  },
  {
   "cell_type": "markdown",
   "id": "bf2b95e2",
   "metadata": {},
   "source": [
    "***\n",
    "## END"
   ]
  },
  {
   "cell_type": "markdown",
   "id": "34aa6eb5",
   "metadata": {},
   "source": [
    "< [Table of Contents](#top) | [References](#references) >\n",
    "<a id=\"SoftwareDevelopmentSecurity\"></a>\n",
    "***\n",
    "### Software Development Security\n",
    "***"
   ]
  },
  {
   "cell_type": "markdown",
   "id": "8572ddb1",
   "metadata": {},
   "source": [
    "Software developers must consider security at all phases of software development. In this course, you'll learn about software vulnerability testing and secure coding practices. You'll explore the software development life cycle, microservices and decoupling, application containerization, and common cloud developer services. In addition, you'll examine software and unit testing and reverse engineering for Android apps. This course can be used in preparation for the CompTIA Cybersecurity Analyst (CySA+) certification exam CS0-002."
   ]
  },
  {
   "cell_type": "markdown",
   "id": "173e78b5",
   "metadata": {},
   "source": [
    "Objectives\n",
    "\n",
    "- discover the key concepts covered in this course <br/><br/>\n",
    "- identify the phases of the SDLC, including related methodologies such as capability maturity model <br/><br/>\n",
    "- recognize how security must be addressed during the entire IT life cycle <br/><br/>\n",
    "- identify how software developers create modular, independent, and reusable code <br/><br/>\n",
    "- recall the benefits of using containerized applications <br/><br/>\n",
    "- list common PaaS software developer service offerings <br/><br/>\n",
    "- recognize common secure coding practices <br/><br/>\n",
    "- recall how thorough software testing can result in more secure software solutions <br/><br/>\n",
    "- isolate larger IT solutions into smaller components for focused testing <br/><br/>\n",
    "- use the apktool to reverse engineer an Android application <br/><br/>\n",
    "- summarize the key concepts covered in this course <br/><br/>"
   ]
  },
  {
   "cell_type": "markdown",
   "id": "84b00380",
   "metadata": {},
   "source": [
    "< [Table of Contents](#top) | [References](#references) >\n",
    "<a id=\"SoftwareDevelopmentLifeCycle\"></a>\n",
    "***\n",
    "### Software Development Life Cycle\n",
    "***"
   ]
  },
  {
   "cell_type": "markdown",
   "id": "d82d85d7",
   "metadata": {},
   "source": []
  },
  {
   "cell_type": "markdown",
   "id": "b4da2efe",
   "metadata": {},
   "source": [
    "< [Table of Contents](#top) | [References](#references) >\n",
    "<a id=\"DevSecOps\"></a>\n",
    "***\n",
    "### DevSecOps\n",
    "***"
   ]
  },
  {
   "cell_type": "markdown",
   "id": "70f6e846",
   "metadata": {},
   "source": []
  },
  {
   "cell_type": "markdown",
   "id": "7b10c3a2",
   "metadata": {},
   "source": [
    "< [Table of Contents](#top) | [References](#references) >\n",
    "<a id=\"MicroservicesandDecoupling\"></a>\n",
    "***\n",
    "### Microservices and Decoupling\n",
    "***"
   ]
  },
  {
   "cell_type": "markdown",
   "id": "2cc18496",
   "metadata": {},
   "source": []
  },
  {
   "cell_type": "markdown",
   "id": "1ce9ff85",
   "metadata": {},
   "source": [
    "< [Table of Contents](#top) | [References](#references) >\n",
    "<a id=\"ApplicationContainerization\"></a>\n",
    "***\n",
    "### Application Containerization\n",
    "***"
   ]
  },
  {
   "cell_type": "markdown",
   "id": "8bb9c616",
   "metadata": {},
   "source": []
  },
  {
   "cell_type": "markdown",
   "id": "d87809fd",
   "metadata": {},
   "source": [
    "< [Table of Contents](#top) | [References](#references) >\n",
    "<a id=\"CloudDeveloperServices\"></a>\n",
    "***\n",
    "### Cloud Developer Services\n",
    "***"
   ]
  },
  {
   "cell_type": "markdown",
   "id": "f0a909b6",
   "metadata": {},
   "source": []
  },
  {
   "cell_type": "markdown",
   "id": "c781a700",
   "metadata": {},
   "source": [
    "< [Table of Contents](#top) | [References](#references) >\n",
    "<a id=\"SecureCoding\"></a>\n",
    "***\n",
    "### Secure Coding\n",
    "***"
   ]
  },
  {
   "cell_type": "markdown",
   "id": "cd41c08d",
   "metadata": {},
   "source": []
  },
  {
   "cell_type": "markdown",
   "id": "1256d7bf",
   "metadata": {},
   "source": [
    "< [Table of Contents](#top) | [References](#references) >\n",
    "<a id=\"SoftwareTesting\"></a>\n",
    "***\n",
    "### Software Testing\n",
    "***"
   ]
  },
  {
   "cell_type": "markdown",
   "id": "3ab13be8",
   "metadata": {},
   "source": []
  },
  {
   "cell_type": "markdown",
   "id": "47707114",
   "metadata": {},
   "source": [
    "< [Table of Contents](#top) | [References](#references) >\n",
    "<a id=\"UnitTesting\"></a>\n",
    "***\n",
    "### Unit Testing\n",
    "***"
   ]
  },
  {
   "cell_type": "markdown",
   "id": "5c5eb4ce",
   "metadata": {},
   "source": []
  },
  {
   "cell_type": "markdown",
   "id": "9adeceaf",
   "metadata": {},
   "source": [
    "< [Table of Contents](#top) | [References](#references) >\n",
    "<a id=\"AndroidAppReverseEngineering\"></a>\n",
    "***\n",
    "### Android App Reverse Engineering\n",
    "***"
   ]
  },
  {
   "cell_type": "markdown",
   "id": "45d2f914",
   "metadata": {},
   "source": []
  },
  {
   "cell_type": "markdown",
   "id": "fd680b58",
   "metadata": {},
   "source": [
    "< [Table of Contents](#top) | [References](#references) >\n",
    "<a id=\"CourseSummary\"></a>\n",
    "***\n",
    "### Course Summary\n",
    "***"
   ]
  },
  {
   "cell_type": "markdown",
   "id": "86a67316",
   "metadata": {},
   "source": []
  },
  {
   "cell_type": "markdown",
   "id": "2cc20932",
   "metadata": {},
   "source": [
    "***\n",
    "## END"
   ]
  },
  {
   "cell_type": "markdown",
   "id": "e0e42d51",
   "metadata": {},
   "source": [
    "< [Table of Contents](#top) >\n",
    "<a id=\"references\"></a>\n",
    "***\n",
    "## References\n",
    "***"
   ]
  },
  {
   "cell_type": "markdown",
   "id": "757bf6de",
   "metadata": {},
   "source": [
    "&nbsp;&nbsp;&nbsp;&nbsp;&nbsp;&nbsp;&nbsp;&nbsp;&nbsp;skillsoft, \"Software Development Security,\" [skillsoft.com](https://web.archive.org/web/20220403100053/https://www.skillsoft.com/), n.d.."
   ]
  },
  {
   "cell_type": "markdown",
   "id": "b33c372a",
   "metadata": {},
   "source": [
    "***\n",
    "## END"
   ]
  },
  {
   "cell_type": "markdown",
   "id": "e5961b4d",
   "metadata": {},
   "source": [
    "< [Table of Contents](#top) | [References](#references) >\n",
    "<a id=\"appendix\"></a>\n",
    "***\n",
    "## Appendix\n",
    "***"
   ]
  },
  {
   "cell_type": "markdown",
   "id": "00d82a82",
   "metadata": {},
   "source": [
    "***\n",
    "## END"
   ]
  },
  {
   "cell_type": "code",
   "execution_count": 1,
   "id": "706756a2",
   "metadata": {},
   "outputs": [
    {
     "data": {
      "text/html": [
       "<style>.container { width:100% !important; }</style>"
      ],
      "text/plain": [
       "<IPython.core.display.HTML object>"
      ]
     },
     "metadata": {},
     "output_type": "display_data"
    }
   ],
   "source": [
    "from IPython.core.display import display,HTML\n",
    "display(HTML(\"<style>.container { width:100% !important; }</style>\"))"
   ]
  },
  {
   "cell_type": "markdown",
   "id": "899c1783",
   "metadata": {},
   "source": [
    "# END JUPYTER NOTEBOOK"
   ]
  }
 ],
 "metadata": {
  "kernelspec": {
   "display_name": "Python 3",
   "language": "python",
   "name": "python3"
  },
  "language_info": {
   "codemirror_mode": {
    "name": "ipython",
    "version": 3
   },
   "file_extension": ".py",
   "mimetype": "text/x-python",
   "name": "python",
   "nbconvert_exporter": "python",
   "pygments_lexer": "ipython3",
   "version": "3.8.8"
  }
 },
 "nbformat": 4,
 "nbformat_minor": 5
}
